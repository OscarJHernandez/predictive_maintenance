{
 "cells": [
  {
   "cell_type": "code",
   "execution_count": 1,
   "metadata": {},
   "outputs": [],
   "source": [
    "import anomaly_detection as ad"
   ]
  },
  {
   "cell_type": "code",
   "execution_count": null,
   "metadata": {},
   "outputs": [
    {
     "name": "stdout",
     "output_type": "stream",
     "text": [
      "Explained Variance:  [0.78080899 0.11179128]\n"
     ]
    },
    {
     "name": "stderr",
     "output_type": "stream",
     "text": [
      "/home/javier/anaconda3/envs/pm_2019/lib/python3.5/site-packages/matplotlib/axes/_axes.py:546: UserWarning: No labelled objects found. Use label='...' kwarg on individual plots.\n",
      "  warnings.warn(\"No labelled objects found. \"\n",
      "/home/javier/anaconda3/envs/pm_2019/lib/python3.5/site-packages/matplotlib/axes/_axes.py:546: UserWarning: No labelled objects found. Use label='...' kwarg on individual plots.\n",
      "  warnings.warn(\"No labelled objects found. \"\n",
      "/home/javier/anaconda3/envs/pm_2019/lib/python3.5/site-packages/matplotlib/axes/_axes.py:546: UserWarning: No labelled objects found. Use label='...' kwarg on individual plots.\n",
      "  warnings.warn(\"No labelled objects found. \"\n"
     ]
    },
    {
     "name": "stdout",
     "output_type": "stream",
     "text": [
      "Explained Variance:  [0.78080899 0.11179128]\n"
     ]
    },
    {
     "name": "stderr",
     "output_type": "stream",
     "text": [
      "/home/javier/anaconda3/envs/pm_2019/lib/python3.5/site-packages/matplotlib/axes/_axes.py:546: UserWarning: No labelled objects found. Use label='...' kwarg on individual plots.\n",
      "  warnings.warn(\"No labelled objects found. \"\n",
      "/home/javier/anaconda3/envs/pm_2019/lib/python3.5/site-packages/matplotlib/axes/_axes.py:546: UserWarning: No labelled objects found. Use label='...' kwarg on individual plots.\n",
      "  warnings.warn(\"No labelled objects found. \"\n",
      "/home/javier/anaconda3/envs/pm_2019/lib/python3.5/site-packages/matplotlib/axes/_axes.py:546: UserWarning: No labelled objects found. Use label='...' kwarg on individual plots.\n",
      "  warnings.warn(\"No labelled objects found. \"\n"
     ]
    },
    {
     "name": "stdout",
     "output_type": "stream",
     "text": [
      "Explained Variance:  [0.78080899 0.11179128]\n"
     ]
    },
    {
     "name": "stderr",
     "output_type": "stream",
     "text": [
      "/home/javier/anaconda3/envs/pm_2019/lib/python3.5/site-packages/matplotlib/axes/_axes.py:546: UserWarning: No labelled objects found. Use label='...' kwarg on individual plots.\n",
      "  warnings.warn(\"No labelled objects found. \"\n",
      "/home/javier/anaconda3/envs/pm_2019/lib/python3.5/site-packages/matplotlib/axes/_axes.py:546: UserWarning: No labelled objects found. Use label='...' kwarg on individual plots.\n",
      "  warnings.warn(\"No labelled objects found. \"\n",
      "/home/javier/anaconda3/envs/pm_2019/lib/python3.5/site-packages/matplotlib/axes/_axes.py:546: UserWarning: No labelled objects found. Use label='...' kwarg on individual plots.\n",
      "  warnings.warn(\"No labelled objects found. \"\n"
     ]
    },
    {
     "name": "stdout",
     "output_type": "stream",
     "text": [
      "Explained Variance:  [0.78080899 0.11179128]\n"
     ]
    }
   ],
   "source": [
    "\n",
    "eng_id = 1\n",
    "in_data = 'train_FD001.txt'\n",
    "N_clusters = 3\n",
    "threshold = 0.5\n",
    "N_features = 100\n",
    "\n",
    "X = []\n",
    "y = []\n",
    "\n",
    "for eng_id in range(1,101):\n",
    "    xk,yk = ad.detect_anomaly(in_data,N_clusters,eng_id,threshold,N_features)\n",
    "    X.append(xk)\n",
    "    y.append(yk)"
   ]
  },
  {
   "cell_type": "code",
   "execution_count": null,
   "metadata": {},
   "outputs": [],
   "source": []
  }
 ],
 "metadata": {
  "kernelspec": {
   "display_name": "Python [conda env:pm_2019]",
   "language": "python",
   "name": "conda-env-pm_2019-py"
  },
  "language_info": {
   "codemirror_mode": {
    "name": "ipython",
    "version": 3
   },
   "file_extension": ".py",
   "mimetype": "text/x-python",
   "name": "python",
   "nbconvert_exporter": "python",
   "pygments_lexer": "ipython3",
   "version": "3.5.4"
  }
 },
 "nbformat": 4,
 "nbformat_minor": 2
}
